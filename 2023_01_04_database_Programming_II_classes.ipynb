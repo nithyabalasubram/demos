{
 "cells": [
  {
   "cell_type": "code",
   "execution_count": 6,
   "metadata": {},
   "outputs": [],
   "source": [
    "import mysql.connector as mariadb\n",
    "\n",
    "class ConnectionDAO:\n",
    "    con = None\n",
    "    cur = None\n",
    "\n",
    "    @classmethod\n",
    "    def connect(cls):\n",
    "        cls.con = mariadb.connect(\n",
    "            user= \"root\",\n",
    "            password= \"password\",\n",
    "            database= \"test_db\",\n",
    "            charset = 'latin1'\n",
    "        )\n",
    "        cls.cur = cls.con.cursor()\n",
    "\n",
    "    @classmethod\n",
    "    def close(cls):\n",
    "        if not cls.con:\n",
    "            cls.con.close()"
   ]
  },
  {
   "cell_type": "code",
   "execution_count": 18,
   "metadata": {},
   "outputs": [],
   "source": [
    "class Queries:\n",
    "    create_user_t = \"CREATE TABLE user1 \\\n",
    "        (email VARCHAR(100),\\\n",
    "         name VARCHAR(50), \\\n",
    "         password VARCHAR(30))\"  \n",
    "\n",
    "    insert_users = \"INSERT INTO user1 \\\n",
    "        (email,name,password) values \\\n",
    "        ('ywbaek@perscholas.org', 'young', 'Letsgomets'),\\\n",
    "        ('mcordon@perscholas.org', 'marcial', 'perscholas'),\\\n",
    "        ('mhaseeb@perscholas.org', 'haseeb', 'platform')\"\n",
    "                 "
   ]
  },
  {
   "cell_type": "code",
   "execution_count": 19,
   "metadata": {},
   "outputs": [],
   "source": [
    "class UserDAO(ConnectionDAO):\n",
    "    def generate_user_table(self):\n",
    "        UserDAO.connect()\n",
    "\n",
    "        UserDAO.cur.execute(Queries.create_user_t)\n",
    "\n",
    "        UserDAO.cur.execute(Queries.insert_users)\n",
    "        UserDAO.con.commit()\n",
    "\n",
    "        UserDAO.close()\n",
    "\n"
   ]
  },
  {
   "cell_type": "code",
   "execution_count": 17,
   "metadata": {},
   "outputs": [],
   "source": [
    "def main():\n",
    "    u = UserDAO()\n",
    "    u.generate_user_table()\n",
    "\n",
    "main()"
   ]
  }
 ],
 "metadata": {
  "kernelspec": {
   "display_name": "Python 3",
   "language": "python",
   "name": "python3"
  },
  "language_info": {
   "codemirror_mode": {
    "name": "ipython",
    "version": 3
   },
   "file_extension": ".py",
   "mimetype": "text/x-python",
   "name": "python",
   "nbconvert_exporter": "python",
   "pygments_lexer": "ipython3",
   "version": "3.11.0"
  },
  "orig_nbformat": 4,
  "vscode": {
   "interpreter": {
    "hash": "5238573367df39f7286bb46f9ff5f08f63a01a80960060ce41e3c79b190280fa"
   }
  }
 },
 "nbformat": 4,
 "nbformat_minor": 2
}
