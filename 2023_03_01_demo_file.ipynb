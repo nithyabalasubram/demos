{
 "cells": [
  {
   "cell_type": "code",
   "execution_count": 15,
   "metadata": {},
   "outputs": [],
   "source": [
    "import mysql.connector as mariadb"
   ]
  },
  {
   "attachments": {},
   "cell_type": "markdown",
   "metadata": {},
   "source": [
    "Open the database connection using the connect method.\n",
    "*since we are opening something.....what else might we need to do?\n",
    "*hint: close\n",
    "\n",
    "We are using the print statement as a reminder when we run our script that we are making db connection\n",
    "\n",
    "& because we are using as a simple way to make sure our code runs to that point our file."
   ]
  },
  {
   "cell_type": "code",
   "execution_count": 22,
   "metadata": {},
   "outputs": [
    {
     "name": "stdout",
     "output_type": "stream",
     "text": [
      "Connecting to MariaDB Database...\n"
     ]
    }
   ],
   "source": [
    "con= mariadb.connect(\n",
    "    host=\"localhost\",\n",
    "    user=\"root\",\n",
    "    password=\"password\",\n",
    "    database=\"classicmodels\",\n",
    "    charset = 'latin1'\n",
    "    )\n",
    "\n",
    "print(\"Connecting to MariaDB Database...\")"
   ]
  },
  {
   "attachments": {},
   "cell_type": "markdown",
   "metadata": {},
   "source": [
    "Let's check and see if we actually made a connection. To do this we need to create a cursor.\n",
    "We do this by callling the cursor method."
   ]
  },
  {
   "cell_type": "code",
   "execution_count": 20,
   "metadata": {},
   "outputs": [],
   "source": [
    "cur = con.cursor()\n",
    "\n",
    "st= \"SELECT productLine, COUNT(*) \\\n",
    "    FROM products \\\n",
    "    WHERE productLine= '{}'\"\n",
    "\n",
    "cur.execute(st.format('Motorcycles'))"
   ]
  },
  {
   "attachments": {},
   "cell_type": "markdown",
   "metadata": {},
   "source": [
    "In the cell above we created and executed our sql statement. But we have not used any methods to actually access this data from our select statement.\n"
   ]
  },
  {
   "cell_type": "code",
   "execution_count": 21,
   "metadata": {},
   "outputs": [
    {
     "name": "stdout",
     "output_type": "stream",
     "text": [
      "[('Motorcycles', 13)]\n"
     ]
    }
   ],
   "source": [
    "result= cur.fetchall()\n",
    "print(result)"
   ]
  },
  {
   "cell_type": "code",
   "execution_count": 17,
   "metadata": {},
   "outputs": [],
   "source": [
    "con.close()"
   ]
  },
  {
   "attachments": {},
   "cell_type": "markdown",
   "metadata": {},
   "source": [
    "\n",
    "That worked great! Let's make a new database without using thr GUI or mysql shell.\n",
    "-Notice that we are not connecting toa  aspecific database when e make the connection.\n",
    "-NOTE: strings can be passed directly into the execute method, determine which way works best for each individual."
   ]
  },
  {
   "cell_type": "code",
   "execution_count": 22,
   "metadata": {},
   "outputs": [
    {
     "name": "stdout",
     "output_type": "stream",
     "text": [
      "Connecting to MariaDB Database...\n",
      "test_db created\n"
     ]
    }
   ],
   "source": [
    "con= mariadb.connect(\n",
    "    host=\"localhost\",\n",
    "    user=\"root\",\n",
    "    password=\"password\"\n",
    "      )\n",
    "\n",
    "print(\"Connecting to MariaDB Database...\")\n",
    "\n",
    "cur = con.cursor()\n",
    "\n",
    "#st= \"CREATE DATABASE test_db\"\n",
    "\n",
    "cur.execute(\"CREATE DATABASE test_db\")\n",
    "print(\"test_db created\")\n",
    "con.close()"
   ]
  },
  {
   "attachments": {},
   "cell_type": "markdown",
   "metadata": {},
   "source": [
    "Add a table to the test_db database that we just created."
   ]
  },
  {
   "cell_type": "code",
   "execution_count": 19,
   "metadata": {},
   "outputs": [
    {
     "name": "stdout",
     "output_type": "stream",
     "text": [
      "Connecting to MariaDB Database...\n",
      "Registration Table is created\n"
     ]
    }
   ],
   "source": [
    "con= mariadb.connect(\n",
    "    host=\"localhost\",\n",
    "    user=\"root\",\n",
    "    password=\"password\",\n",
    "    database=\"test_db\",\n",
    "    charset = 'latin1'\n",
    "   )\n",
    "\n",
    "print(\"Connecting to MariaDB Database...\")\n",
    "\n",
    "cur = con.cursor()\n",
    "\n",
    "st= \"CREATE TABLE Registration \\\n",
    "    (id INTEGER, age INTEGER, \\\n",
    "     first varchar(50), last VARCHAR(50))\"\n",
    "\n",
    "cur.execute(st)\n",
    "\n",
    "print(\"Registration Table is created\")\n",
    "\n",
    "con.close()"
   ]
  },
  {
   "attachments": {},
   "cell_type": "markdown",
   "metadata": {},
   "source": [
    "Insert data into our newly created Registration Table.\n",
    "*Reminder*\n",
    "DDL(Data Definition Language) - Create, Drop, Alter\n",
    "DQL(Data Query Language) - SELECT\n",
    "DML(Data Manipulation Language) - INSERT, UPDATE, DELETE"
   ]
  },
  {
   "cell_type": "code",
   "execution_count": 3,
   "metadata": {},
   "outputs": [
    {
     "name": "stdout",
     "output_type": "stream",
     "text": [
      "Connecting to MariaDB Database...\n",
      "Values are inserted\n"
     ]
    }
   ],
   "source": [
    "con= mariadb.connect(\n",
    "    host=\"localhost\",\n",
    "    user=\"root\",\n",
    "    password=\"password\",\n",
    "    database=\"test_db\",\n",
    "    charset = 'latin1'\n",
    "   )\n",
    "\n",
    "print(\"Connecting to MariaDB Database...\")\n",
    "\n",
    "cur = con.cursor()\n",
    "\n",
    "st=\"INSERT INTO Registration \\\n",
    "    (id, age, first, last) VALUES \\\n",
    "    (100, 29, 'Michael', 'Jordan'), \\\n",
    "    (101, 29, 'Diego', 'Maradona'), \\\n",
    "    (102, 33, 'Babe', 'Ruth'), \\\n",
    "    (103, 40, 'Wayne', 'Gretzky'), \\\n",
    "    (104, 27, 'Michelle', 'Kwan'), \\\n",
    "    (105, 35, 'Steffi', 'Graf')\"\n",
    "\n",
    "cur.execute(st)\n",
    "con.commit()\n",
    "\n",
    "print('Values are inserted')\n",
    "\n",
    "con.close()\n"
   ]
  },
  {
   "attachments": {},
   "cell_type": "markdown",
   "metadata": {},
   "source": [
    "Let's check how to see our values , without using GUI.\n",
    "We are using a different process here to access the values instead of the .fetchall() method."
   ]
  },
  {
   "cell_type": "code",
   "execution_count": 6,
   "metadata": {},
   "outputs": [
    {
     "name": "stdout",
     "output_type": "stream",
     "text": [
      "Connecting to MariaDB Database...\n",
      "ID: 100, AGE: 29, FIRST: Michael, LAST: Jordan\n",
      "ID: 101, AGE: 29, FIRST: Diego, LAST: Maradona\n",
      "ID: 102, AGE: 33, FIRST: Babe, LAST: Ruth\n",
      "ID: 103, AGE: 40, FIRST: Wayne, LAST: Gretzky\n",
      "ID: 104, AGE: 27, FIRST: Michelle, LAST: Kwan\n",
      "ID: 105, AGE: 35, FIRST: Steffi, LAST: Graf\n"
     ]
    }
   ],
   "source": [
    "con= mariadb.connect(\n",
    "    host=\"localhost\",\n",
    "    user=\"root\",\n",
    "    password=\"password\",\n",
    "    database=\"test_db\",\n",
    "    charset = 'latin1'\n",
    "   )\n",
    "\n",
    "print(\"Connecting to MariaDB Database...\")\n",
    "\n",
    "cur = con.cursor()\n",
    "\n",
    "st = \"SELECT * FROM Registration\"\n",
    "\n",
    "cur.execute(st)\n",
    "\n",
    "#result = cur.fetchall()\n",
    "#print(result)\n",
    "for r in cur:\n",
    "      print(\"ID: {}, AGE: {}, FIRST: {}, LAST: {}\".format(r[0],r[1],r[2],r[3]))\n",
    "\n",
    "con.close()"
   ]
  },
  {
   "attachments": {},
   "cell_type": "markdown",
   "metadata": {},
   "source": [
    "Querying with Like Operator"
   ]
  },
  {
   "cell_type": "code",
   "execution_count": 7,
   "metadata": {},
   "outputs": [
    {
     "name": "stdout",
     "output_type": "stream",
     "text": [
      "Connecting to MariaDB Database...\n",
      "ID: 100, AGE: 29, FIRST: Michael, LAST: Jordan\n",
      "ID: 104, AGE: 27, FIRST: Michelle, LAST: Kwan\n"
     ]
    }
   ],
   "source": [
    "con= mariadb.connect(\n",
    "    host=\"localhost\",\n",
    "    user=\"root\",\n",
    "    password=\"password\",\n",
    "    database=\"test_db\",\n",
    "    charset = 'latin1'\n",
    "   )\n",
    "\n",
    "print(\"Connecting to MariaDB Database...\")\n",
    "\n",
    "cur = con.cursor()\n",
    "\n",
    "st = \"SELECT * FROM Registration WHERE first LIKE '%ich%'\"\n",
    "\n",
    "cur.execute(st)\n",
    "\n",
    "for r in cur:\n",
    "      print(\"ID: {}, AGE: {}, FIRST: {}, LAST: {}\".format(r[0],r[1],r[2],r[3]))\n",
    "\n",
    "con.close()"
   ]
  },
  {
   "attachments": {},
   "cell_type": "markdown",
   "metadata": {},
   "source": [
    "UPDATE Example\n",
    "*UPdate is part of DML so we want to use the commit method on our connection object"
   ]
  },
  {
   "cell_type": "code",
   "execution_count": 8,
   "metadata": {},
   "outputs": [
    {
     "name": "stdout",
     "output_type": "stream",
     "text": [
      "Connecting to MariaDB Database...\n",
      "Values are updated\n"
     ]
    }
   ],
   "source": [
    "con= mariadb.connect(\n",
    "    host=\"localhost\",\n",
    "    user=\"root\",\n",
    "    password=\"password\",\n",
    "    database=\"test_db\",\n",
    "    charset = 'latin1'\n",
    "   )\n",
    "\n",
    "print(\"Connecting to MariaDB Database...\")\n",
    "\n",
    "cur = con.cursor()\n",
    "\n",
    "st= \"UPDATE Registration \\\n",
    "    SET age= 30 WHERE id IN (100,101)\"\n",
    "\n",
    "cur.execute(st)\n",
    "con.commit()\n",
    "\n",
    "print(\"Values are updated\")\n",
    "con.close()\n",
    "\n"
   ]
  },
  {
   "cell_type": "code",
   "execution_count": 9,
   "metadata": {},
   "outputs": [
    {
     "name": "stdout",
     "output_type": "stream",
     "text": [
      "Connecting to MariaDB Database...\n",
      "ID: 100, AGE: 30, FIRST: Michael, LAST: Jordan\n",
      "ID: 101, AGE: 30, FIRST: Diego, LAST: Maradona\n",
      "ID: 102, AGE: 33, FIRST: Babe, LAST: Ruth\n",
      "ID: 103, AGE: 40, FIRST: Wayne, LAST: Gretzky\n",
      "ID: 104, AGE: 27, FIRST: Michelle, LAST: Kwan\n",
      "ID: 105, AGE: 35, FIRST: Steffi, LAST: Graf\n"
     ]
    }
   ],
   "source": [
    "con= mariadb.connect(\n",
    "    host=\"localhost\",\n",
    "    user=\"root\",\n",
    "    password=\"password\",\n",
    "    database=\"test_db\",\n",
    "    charset = 'latin1'\n",
    "   )\n",
    "\n",
    "print(\"Connecting to MariaDB Database...\")\n",
    "\n",
    "cur = con.cursor()\n",
    "\n",
    "st = \"SELECT * FROM Registration\"\n",
    "\n",
    "cur.execute(st)\n",
    "\n",
    "#result = cur.fetchall()\n",
    "#print(result)\n",
    "for r in cur:\n",
    "      print(\"ID: {}, AGE: {}, FIRST: {}, LAST: {}\".format(r[0],r[1],r[2],r[3]))\n",
    "\n",
    "con.close()"
   ]
  },
  {
   "attachments": {},
   "cell_type": "markdown",
   "metadata": {},
   "source": [
    "Example of using SQL actions with a try and except block"
   ]
  },
  {
   "cell_type": "code",
   "execution_count": 10,
   "metadata": {},
   "outputs": [
    {
     "name": "stdout",
     "output_type": "stream",
     "text": [
      "Unknown database 'wrong_db'\n"
     ]
    }
   ],
   "source": [
    "try:\n",
    "    con= mariadb.connect(\n",
    "        user=\"root\",\n",
    "        password= \"password\",\n",
    "        database=\"wrong_db\"\n",
    "    )\n",
    "\n",
    "    print(\"Connected to MariaDB...\")\n",
    "\n",
    "    con.close()\n",
    "except mariadb.Error as e:\n",
    "    print(e)"
   ]
  },
  {
   "cell_type": "code",
   "execution_count": 27,
   "metadata": {},
   "outputs": [],
   "source": [
    "import mariadb\n",
    "\n",
    "def generate_user_table():\n",
    "    con= mariadb.connect(\n",
    "            host = \"localhost\",\n",
    "            user=\"root\",\n",
    "            password= \"password\",\n",
    "            database=\"test_db\",\n",
    "            charset = 'latin1'\n",
    "    )\n",
    "\n",
    "    print(\"Connected to MariaDB...\")\n",
    "\n",
    "    cur = con.cursor()\n",
    "\n",
    "    st= \"CREATE TABLE user \\\n",
    "    (email varchar(100), name varchar(50), password varchar(30))\"\n",
    "\n",
    "    cur.execute(st)\n",
    "\n",
    "    print(\"User Table is created\")\n",
    "\n",
    "\n",
    "    st1=\"INSERT INTO user \\\n",
    "        (email, name, password) VALUES \\\n",
    "        ('ywbaek@perscholas.org', 'young', 'letsgomets'), \\\n",
    "        ('mcordon@perscholas.org', 'marcial', 'perscholas'), \\\n",
    "        ('mhaseeb@perscholas.org', 'haseeb', 'platform')\"   \n",
    "        \n",
    "           \n",
    "        \n",
    "    cur.execute(st1)\n",
    "\n",
    "    print(\"Values are inserted\")\n",
    "\n",
    "    con.commit()\n",
    "\n",
    "    con.close()\n",
    " "
   ]
  },
  {
   "cell_type": "code",
   "execution_count": 26,
   "metadata": {},
   "outputs": [
    {
     "name": "stdout",
     "output_type": "stream",
     "text": [
      "Connected to MariaDB...\n",
      "Values are inserted\n"
     ]
    }
   ],
   "source": [
    "generate_user_table()"
   ]
  },
  {
   "cell_type": "code",
   "execution_count": 28,
   "metadata": {},
   "outputs": [],
   "source": [
    "def get_all_users():\n",
    "    con= mariadb.connect(\n",
    "            host = \"localhost\",\n",
    "            user=\"root\",\n",
    "            password= \"password\",\n",
    "            database=\"test_db\",\n",
    "            charset = 'latin1'\n",
    "    )\n",
    "\n",
    "    print(\"Connected to MariaDB...\")\n",
    "\n",
    "    cur = con.cursor()\n",
    "\n",
    "    st = \"SELECT * FROM user\"\n",
    "\n",
    "    cur.execute(st)\n",
    "\n",
    "    #result = cur.fetchall()\n",
    "    #print(result)\n",
    "    for r in cur:\n",
    "      print(\"email: {}, name: {}, password: {}\".format(r[0],r[1],r[2]))\n",
    "\n",
    "    con.close()\n"
   ]
  },
  {
   "cell_type": "code",
   "execution_count": 29,
   "metadata": {},
   "outputs": [
    {
     "name": "stdout",
     "output_type": "stream",
     "text": [
      "Connected to MariaDB...\n",
      "email: ywbaek@perscholas.org, name: young, password: letsgomets\n",
      "email: mcordon@perscholas.org, name: marcial, password: perscholas\n",
      "email: mhaseeb@perscholas.org, name: haseeb, password: platform\n"
     ]
    }
   ],
   "source": [
    "get_all_users()"
   ]
  },
  {
   "cell_type": "code",
   "execution_count": 37,
   "metadata": {},
   "outputs": [],
   "source": [
    "def get_user_by_name(name):\n",
    "    con= mariadb.connect(\n",
    "            host = \"localhost\",\n",
    "            user=\"root\",\n",
    "            password= \"password\",\n",
    "            database=\"test_db\",\n",
    "            charset = 'latin1'\n",
    "    )\n",
    "\n",
    "    print(\"Connected to MariaDB...\")\n",
    "\n",
    "    cur = con.cursor()\n",
    "\n",
    "    \n",
    "    st = (f\"SELECT * FROM user WHERE name = '{name}'\")\n",
    "\n",
    "    cur.execute(st)\n",
    "\n",
    "    for r in cur:\n",
    "        print(\"name: {}, email: {}, password: {}\".format(r[1],r[0],r[2]))\n",
    "       \n",
    "\n",
    "    con.close()\n"
   ]
  },
  {
   "cell_type": "code",
   "execution_count": 38,
   "metadata": {},
   "outputs": [
    {
     "name": "stdout",
     "output_type": "stream",
     "text": [
      "Connected to MariaDB...\n",
      "name: young, email: ywbaek@perscholas.org, password: letsgomets\n"
     ]
    }
   ],
   "source": [
    "get_user_by_name('young')"
   ]
  },
  {
   "cell_type": "code",
   "execution_count": 60,
   "metadata": {},
   "outputs": [],
   "source": [
    "def validate_user(email,password):\n",
    "    con= mariadb.connect(\n",
    "            host = \"localhost\",\n",
    "            user=\"root\",\n",
    "            password= \"password\",\n",
    "            database=\"test_db\",\n",
    "            charset = 'latin1'\n",
    "    )\n",
    "\n",
    "    print(\"Connected to MariaDB...\")\n",
    "\n",
    "    cur = con.cursor()\n",
    "\n",
    "    \n",
    "    st = (f\"SELECT * FROM user WHERE email = '{email}' and password = '{password}'\")\n",
    "    cur.execute(st)\n",
    "    if cur.rowcount == 0:\n",
    "        return False\n",
    "    else:\n",
    "        return True\n",
    "\n",
    "    con.close()\n",
    "        \n",
    "\n",
    "    \n"
   ]
  },
  {
   "cell_type": "code",
   "execution_count": 47,
   "metadata": {},
   "outputs": [
    {
     "name": "stdout",
     "output_type": "stream",
     "text": [
      "Connected to MariaDB...\n"
     ]
    },
    {
     "data": {
      "text/plain": [
       "True"
      ]
     },
     "execution_count": 47,
     "metadata": {},
     "output_type": "execute_result"
    }
   ],
   "source": [
    "validate_user('ywbaek@perscholas.org', 'letsgomets')"
   ]
  },
  {
   "cell_type": "code",
   "execution_count": 20,
   "metadata": {},
   "outputs": [],
   "source": [
    "def update_user(email, name, password):\n",
    "    con= mariadb.connect(\n",
    "            host = \"localhost\",\n",
    "            user=\"root\",\n",
    "            password= \"password\",\n",
    "            database=\"test_db\",\n",
    "            charset = 'latin1'\n",
    "    )\n",
    "\n",
    "    print(\"Connected to MariaDB...\")\n",
    "\n",
    "    cur = con.cursor()\n",
    "\n",
    "    \n",
    "    st= f\"UPDATE user \\\n",
    "    SET name= '{name}', password= '{password}' WHERE email= '{email}'\"\n",
    "\n",
    "    cur.execute(st)\n",
    "    con.commit()\n",
    "\n",
    "    if cur.rowcount == 0:\n",
    "        return False\n",
    "    else:\n",
    "        return True       \n",
    "\n",
    "    \n",
    "    con.close()\n",
    "\n"
   ]
  },
  {
   "cell_type": "code",
   "execution_count": 21,
   "metadata": {},
   "outputs": [
    {
     "name": "stdout",
     "output_type": "stream",
     "text": [
      "Connected to MariaDB...\n"
     ]
    },
    {
     "data": {
      "text/plain": [
       "True"
      ]
     },
     "execution_count": 21,
     "metadata": {},
     "output_type": "execute_result"
    }
   ],
   "source": [
    "update_user('mhaseeb@perscholas.org', 'haseeb', 'platform')"
   ]
  }
 ],
 "metadata": {
  "kernelspec": {
   "display_name": "Python 3",
   "language": "python",
   "name": "python3"
  },
  "language_info": {
   "codemirror_mode": {
    "name": "ipython",
    "version": 3
   },
   "file_extension": ".py",
   "mimetype": "text/x-python",
   "name": "python",
   "nbconvert_exporter": "python",
   "pygments_lexer": "ipython3",
   "version": "3.11.0 (main, Oct 24 2022, 18:26:48) [MSC v.1933 64 bit (AMD64)]"
  },
  "orig_nbformat": 4,
  "vscode": {
   "interpreter": {
    "hash": "5238573367df39f7286bb46f9ff5f08f63a01a80960060ce41e3c79b190280fa"
   }
  }
 },
 "nbformat": 4,
 "nbformat_minor": 2
}
